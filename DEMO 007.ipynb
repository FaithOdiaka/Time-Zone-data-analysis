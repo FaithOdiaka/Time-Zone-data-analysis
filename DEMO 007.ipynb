{
 "cells": [
  {
   "cell_type": "markdown",
   "id": "b0f0c9d2",
   "metadata": {},
   "source": [
    "**IMPORTING ESSENTIAL MODULES**"
   ]
  },
  {
   "cell_type": "code",
   "execution_count": 1,
   "id": "7938dd48",
   "metadata": {},
   "outputs": [
    {
     "data": {
      "text/plain": [
       "'C:\\\\Users\\\\user'"
      ]
     },
     "execution_count": 1,
     "metadata": {},
     "output_type": "execute_result"
    }
   ],
   "source": [
    "import pandas as pd\n",
    "import numpy as np\n",
    "import matplotlib.pyplot as plt\n",
    "import seaborn as sns\n",
    "%matplotlib inline\n",
    "\n",
    "import warnings \n",
    "warnings.filterwarnings('ignore')\n",
    "\n",
    "import os\n",
    "os.getcwd()"
   ]
  },
  {
   "cell_type": "markdown",
   "id": "a12df76c",
   "metadata": {},
   "source": [
    "**LOADING THE DATASET**"
   ]
  },
  {
   "cell_type": "code",
   "execution_count": 2,
   "id": "851bc605",
   "metadata": {},
   "outputs": [],
   "source": [
    "url = 'https://raw.githubusercontent.com/vkoul/data/main/misc/instacart.csv'"
   ]
  },
  {
   "cell_type": "code",
   "execution_count": 3,
   "id": "00e9ee54",
   "metadata": {},
   "outputs": [],
   "source": [
    "data = pd.read_csv(url)"
   ]
  },
  {
   "cell_type": "code",
   "execution_count": 4,
   "id": "9f3698ee",
   "metadata": {},
   "outputs": [
    {
     "data": {
      "text/html": [
       "<div>\n",
       "<style scoped>\n",
       "    .dataframe tbody tr th:only-of-type {\n",
       "        vertical-align: middle;\n",
       "    }\n",
       "\n",
       "    .dataframe tbody tr th {\n",
       "        vertical-align: top;\n",
       "    }\n",
       "\n",
       "    .dataframe thead th {\n",
       "        text-align: right;\n",
       "    }\n",
       "</style>\n",
       "<table border=\"1\" class=\"dataframe\">\n",
       "  <thead>\n",
       "    <tr style=\"text-align: right;\">\n",
       "      <th></th>\n",
       "      <th>order_delivery_time</th>\n",
       "      <th>order_id</th>\n",
       "      <th>customer_order_rating</th>\n",
       "      <th>type_of_issue _reported</th>\n",
       "      <th>region</th>\n",
       "    </tr>\n",
       "  </thead>\n",
       "  <tbody>\n",
       "    <tr>\n",
       "      <th>0</th>\n",
       "      <td>2014-06-02 04:23:16 UTC</td>\n",
       "      <td>233599337</td>\n",
       "      <td>5</td>\n",
       "      <td>NaN</td>\n",
       "      <td>chi</td>\n",
       "    </tr>\n",
       "    <tr>\n",
       "      <th>1</th>\n",
       "      <td>2014-06-02 03:57:50 UTC</td>\n",
       "      <td>233599376</td>\n",
       "      <td>5</td>\n",
       "      <td>NaN</td>\n",
       "      <td>chi</td>\n",
       "    </tr>\n",
       "    <tr>\n",
       "      <th>2</th>\n",
       "      <td>2014-06-02 02:52:38 UTC</td>\n",
       "      <td>233599328</td>\n",
       "      <td>5</td>\n",
       "      <td>NaN</td>\n",
       "      <td>chi</td>\n",
       "    </tr>\n",
       "    <tr>\n",
       "      <th>3</th>\n",
       "      <td>2014-06-02 02:52:04 UTC</td>\n",
       "      <td>233599070</td>\n",
       "      <td>5</td>\n",
       "      <td>NaN</td>\n",
       "      <td>chi</td>\n",
       "    </tr>\n",
       "    <tr>\n",
       "      <th>4</th>\n",
       "      <td>2014-06-02 02:41:43 UTC</td>\n",
       "      <td>233599100</td>\n",
       "      <td>5</td>\n",
       "      <td>NaN</td>\n",
       "      <td>chi</td>\n",
       "    </tr>\n",
       "  </tbody>\n",
       "</table>\n",
       "</div>"
      ],
      "text/plain": [
       "       order_delivery_time   order_id  customer_order_rating  \\\n",
       "0  2014-06-02 04:23:16 UTC  233599337                      5   \n",
       "1  2014-06-02 03:57:50 UTC  233599376                      5   \n",
       "2  2014-06-02 02:52:38 UTC  233599328                      5   \n",
       "3  2014-06-02 02:52:04 UTC  233599070                      5   \n",
       "4  2014-06-02 02:41:43 UTC  233599100                      5   \n",
       "\n",
       "  type_of_issue _reported region  \n",
       "0                     NaN    chi  \n",
       "1                     NaN    chi  \n",
       "2                     NaN    chi  \n",
       "3                     NaN    chi  \n",
       "4                     NaN    chi  "
      ]
     },
     "execution_count": 4,
     "metadata": {},
     "output_type": "execute_result"
    }
   ],
   "source": [
    "data.head()"
   ]
  },
  {
   "cell_type": "markdown",
   "id": "ae671451",
   "metadata": {},
   "source": [
    "***DATA CHECK***"
   ]
  },
  {
   "cell_type": "code",
   "execution_count": 5,
   "id": "a29824f9",
   "metadata": {},
   "outputs": [
    {
     "name": "stdout",
     "output_type": "stream",
     "text": [
      "<class 'pandas.core.frame.DataFrame'>\n",
      "RangeIndex: 14957 entries, 0 to 14956\n",
      "Data columns (total 5 columns):\n",
      " #   Column                   Non-Null Count  Dtype \n",
      "---  ------                   --------------  ----- \n",
      " 0   order_delivery_time      14957 non-null  object\n",
      " 1   order_id                 14957 non-null  int64 \n",
      " 2   customer_order_rating    14957 non-null  int64 \n",
      " 3   type_of_issue _reported  1087 non-null   object\n",
      " 4   region                   14957 non-null  object\n",
      "dtypes: int64(2), object(3)\n",
      "memory usage: 584.4+ KB\n"
     ]
    }
   ],
   "source": [
    "data.info()"
   ]
  },
  {
   "cell_type": "code",
   "execution_count": 6,
   "id": "d460edf7",
   "metadata": {},
   "outputs": [
    {
     "data": {
      "text/plain": [
       "order_delivery_time            0\n",
       "order_id                       0\n",
       "customer_order_rating          0\n",
       "type_of_issue _reported    13870\n",
       "region                         0\n",
       "dtype: int64"
      ]
     },
     "execution_count": 6,
     "metadata": {},
     "output_type": "execute_result"
    }
   ],
   "source": [
    "data.isnull().sum()"
   ]
  },
  {
   "cell_type": "code",
   "execution_count": 7,
   "id": "fbd8cc4c",
   "metadata": {},
   "outputs": [],
   "source": [
    "data.columns =  ['order_delivery_time', 'order_id', 'customer_order_rating',\n",
    "       'type_of_issue_reported', 'region']"
   ]
  },
  {
   "cell_type": "code",
   "execution_count": 8,
   "id": "e41c2d33",
   "metadata": {},
   "outputs": [
    {
     "data": {
      "text/plain": [
       "Index(['order_delivery_time', 'order_id', 'customer_order_rating',\n",
       "       'type_of_issue_reported', 'region'],\n",
       "      dtype='object')"
      ]
     },
     "execution_count": 8,
     "metadata": {},
     "output_type": "execute_result"
    }
   ],
   "source": [
    "data.columns"
   ]
  },
  {
   "cell_type": "code",
   "execution_count": 9,
   "id": "0957172d",
   "metadata": {},
   "outputs": [
    {
     "data": {
      "text/plain": [
       "123"
      ]
     },
     "execution_count": 9,
     "metadata": {},
     "output_type": "execute_result"
    }
   ],
   "source": [
    "data.duplicated().sum()"
   ]
  },
  {
   "cell_type": "code",
   "execution_count": 10,
   "id": "2aa9b3d5",
   "metadata": {},
   "outputs": [],
   "source": [
    "data.drop_duplicates(inplace = True)"
   ]
  },
  {
   "cell_type": "code",
   "execution_count": 11,
   "id": "d2e8819e",
   "metadata": {},
   "outputs": [
    {
     "data": {
      "text/plain": [
       "0"
      ]
     },
     "execution_count": 11,
     "metadata": {},
     "output_type": "execute_result"
    }
   ],
   "source": [
    "data.duplicated().sum()"
   ]
  },
  {
   "cell_type": "markdown",
   "id": "207dbba9",
   "metadata": {},
   "source": [
    "***IMPORTING THE DATA CORRECTLY***\n",
    "\n",
    "The column 'order_delivery_time' has been wrongly classified as an object"
   ]
  },
  {
   "cell_type": "code",
   "execution_count": 12,
   "id": "1a542414",
   "metadata": {},
   "outputs": [],
   "source": [
    "df1 = pd.read_csv(url,\n",
    "                 parse_dates = ['order_delivery_time'],\n",
    "                 date_parser = lambda col: pd.to_datetime(col, utc = True))"
   ]
  },
  {
   "cell_type": "markdown",
   "id": "a6c2f4bd",
   "metadata": {},
   "source": [
    "***DATA CLEANING***"
   ]
  },
  {
   "cell_type": "code",
   "execution_count": 13,
   "id": "d67b916c",
   "metadata": {},
   "outputs": [
    {
     "data": {
      "text/plain": [
       "array([5, 4, 3, 2, 1, 0], dtype=int64)"
      ]
     },
     "execution_count": 13,
     "metadata": {},
     "output_type": "execute_result"
    }
   ],
   "source": [
    "df1['customer_order_rating'].unique()"
   ]
  },
  {
   "cell_type": "code",
   "execution_count": 14,
   "id": "c36dc61d",
   "metadata": {},
   "outputs": [
    {
     "data": {
      "text/plain": [
       "array([nan, 'Wrong item', 'Item charged incorrectly',\n",
       "       'Damaged or spoiled', 'Item missing', 'Other Order Issue',\n",
       "       'Poor service', 'Poor replacement'], dtype=object)"
      ]
     },
     "execution_count": 14,
     "metadata": {},
     "output_type": "execute_result"
    }
   ],
   "source": [
    "df1['type_of_issue _reported'].unique()"
   ]
  },
  {
   "cell_type": "code",
   "execution_count": 15,
   "id": "adee66c6",
   "metadata": {},
   "outputs": [
    {
     "data": {
      "text/plain": [
       "array(['chi', 'nyc', 'sf', 'sf '], dtype=object)"
      ]
     },
     "execution_count": 15,
     "metadata": {},
     "output_type": "execute_result"
    }
   ],
   "source": [
    "df1['region'].unique()"
   ]
  },
  {
   "cell_type": "markdown",
   "id": "78baff95",
   "metadata": {},
   "source": [
    "***In the above list, you can see that there are two enteries for sf. Its because there is a whitespace in the data, we therefore need to remove it***"
   ]
  },
  {
   "cell_type": "code",
   "execution_count": 16,
   "id": "3bad22ad",
   "metadata": {},
   "outputs": [],
   "source": [
    "df1['region'] = df1['region'].str.strip()"
   ]
  },
  {
   "cell_type": "code",
   "execution_count": 17,
   "id": "f1bdd2e2",
   "metadata": {},
   "outputs": [
    {
     "data": {
      "text/plain": [
       "array(['chi', 'nyc', 'sf'], dtype=object)"
      ]
     },
     "execution_count": 17,
     "metadata": {},
     "output_type": "execute_result"
    }
   ],
   "source": [
    "df1['region'].unique()"
   ]
  },
  {
   "cell_type": "markdown",
   "id": "fecba2f2",
   "metadata": {},
   "source": [
    "****VISUALIZING THE DELIVERY TIME ACROSS THE DIFFERENT REGIONS****"
   ]
  },
  {
   "cell_type": "code",
   "execution_count": 18,
   "id": "adf0de69",
   "metadata": {},
   "outputs": [],
   "source": [
    "df1['hour'] = df1['order_delivery_time'].dt.hour"
   ]
  },
  {
   "cell_type": "code",
   "execution_count": 19,
   "id": "55bb7308",
   "metadata": {},
   "outputs": [
    {
     "data": {
      "text/html": [
       "<style type=\"text/css\">\n",
       "#T_3b85d_row0_col0, #T_3b85d_row0_col1, #T_3b85d_row0_col2, #T_3b85d_row0_col3, #T_3b85d_row0_col4, #T_3b85d_row0_col5, #T_3b85d_row1_col0, #T_3b85d_row1_col1, #T_3b85d_row1_col2, #T_3b85d_row1_col3, #T_3b85d_row1_col4, #T_3b85d_row1_col5, #T_3b85d_row2_col0, #T_3b85d_row2_col1, #T_3b85d_row2_col2, #T_3b85d_row2_col3, #T_3b85d_row2_col4, #T_3b85d_row2_col5, #T_3b85d_row3_col0, #T_3b85d_row3_col1, #T_3b85d_row3_col2, #T_3b85d_row3_col3, #T_3b85d_row3_col4, #T_3b85d_row3_col5, #T_3b85d_row4_col0, #T_3b85d_row4_col1, #T_3b85d_row4_col2, #T_3b85d_row4_col3, #T_3b85d_row4_col4, #T_3b85d_row4_col5 {\n",
       "  background-color: purple;\n",
       "  color: white;\n",
       "  border-color: white;\n",
       "}\n",
       "</style>\n",
       "<table id=\"T_3b85d\">\n",
       "  <thead>\n",
       "    <tr>\n",
       "      <th class=\"blank level0\" >&nbsp;</th>\n",
       "      <th id=\"T_3b85d_level0_col0\" class=\"col_heading level0 col0\" >order_delivery_time</th>\n",
       "      <th id=\"T_3b85d_level0_col1\" class=\"col_heading level0 col1\" >order_id</th>\n",
       "      <th id=\"T_3b85d_level0_col2\" class=\"col_heading level0 col2\" >customer_order_rating</th>\n",
       "      <th id=\"T_3b85d_level0_col3\" class=\"col_heading level0 col3\" >type_of_issue _reported</th>\n",
       "      <th id=\"T_3b85d_level0_col4\" class=\"col_heading level0 col4\" >region</th>\n",
       "      <th id=\"T_3b85d_level0_col5\" class=\"col_heading level0 col5\" >hour</th>\n",
       "    </tr>\n",
       "  </thead>\n",
       "  <tbody>\n",
       "    <tr>\n",
       "      <th id=\"T_3b85d_level0_row0\" class=\"row_heading level0 row0\" >0</th>\n",
       "      <td id=\"T_3b85d_row0_col0\" class=\"data row0 col0\" >2014-06-02 04:23:16+00:00</td>\n",
       "      <td id=\"T_3b85d_row0_col1\" class=\"data row0 col1\" >233599337</td>\n",
       "      <td id=\"T_3b85d_row0_col2\" class=\"data row0 col2\" >5</td>\n",
       "      <td id=\"T_3b85d_row0_col3\" class=\"data row0 col3\" >nan</td>\n",
       "      <td id=\"T_3b85d_row0_col4\" class=\"data row0 col4\" >chi</td>\n",
       "      <td id=\"T_3b85d_row0_col5\" class=\"data row0 col5\" >4</td>\n",
       "    </tr>\n",
       "    <tr>\n",
       "      <th id=\"T_3b85d_level0_row1\" class=\"row_heading level0 row1\" >1</th>\n",
       "      <td id=\"T_3b85d_row1_col0\" class=\"data row1 col0\" >2014-06-02 03:57:50+00:00</td>\n",
       "      <td id=\"T_3b85d_row1_col1\" class=\"data row1 col1\" >233599376</td>\n",
       "      <td id=\"T_3b85d_row1_col2\" class=\"data row1 col2\" >5</td>\n",
       "      <td id=\"T_3b85d_row1_col3\" class=\"data row1 col3\" >nan</td>\n",
       "      <td id=\"T_3b85d_row1_col4\" class=\"data row1 col4\" >chi</td>\n",
       "      <td id=\"T_3b85d_row1_col5\" class=\"data row1 col5\" >3</td>\n",
       "    </tr>\n",
       "    <tr>\n",
       "      <th id=\"T_3b85d_level0_row2\" class=\"row_heading level0 row2\" >2</th>\n",
       "      <td id=\"T_3b85d_row2_col0\" class=\"data row2 col0\" >2014-06-02 02:52:38+00:00</td>\n",
       "      <td id=\"T_3b85d_row2_col1\" class=\"data row2 col1\" >233599328</td>\n",
       "      <td id=\"T_3b85d_row2_col2\" class=\"data row2 col2\" >5</td>\n",
       "      <td id=\"T_3b85d_row2_col3\" class=\"data row2 col3\" >nan</td>\n",
       "      <td id=\"T_3b85d_row2_col4\" class=\"data row2 col4\" >chi</td>\n",
       "      <td id=\"T_3b85d_row2_col5\" class=\"data row2 col5\" >2</td>\n",
       "    </tr>\n",
       "    <tr>\n",
       "      <th id=\"T_3b85d_level0_row3\" class=\"row_heading level0 row3\" >3</th>\n",
       "      <td id=\"T_3b85d_row3_col0\" class=\"data row3 col0\" >2014-06-02 02:52:04+00:00</td>\n",
       "      <td id=\"T_3b85d_row3_col1\" class=\"data row3 col1\" >233599070</td>\n",
       "      <td id=\"T_3b85d_row3_col2\" class=\"data row3 col2\" >5</td>\n",
       "      <td id=\"T_3b85d_row3_col3\" class=\"data row3 col3\" >nan</td>\n",
       "      <td id=\"T_3b85d_row3_col4\" class=\"data row3 col4\" >chi</td>\n",
       "      <td id=\"T_3b85d_row3_col5\" class=\"data row3 col5\" >2</td>\n",
       "    </tr>\n",
       "    <tr>\n",
       "      <th id=\"T_3b85d_level0_row4\" class=\"row_heading level0 row4\" >4</th>\n",
       "      <td id=\"T_3b85d_row4_col0\" class=\"data row4 col0\" >2014-06-02 02:41:43+00:00</td>\n",
       "      <td id=\"T_3b85d_row4_col1\" class=\"data row4 col1\" >233599100</td>\n",
       "      <td id=\"T_3b85d_row4_col2\" class=\"data row4 col2\" >5</td>\n",
       "      <td id=\"T_3b85d_row4_col3\" class=\"data row4 col3\" >nan</td>\n",
       "      <td id=\"T_3b85d_row4_col4\" class=\"data row4 col4\" >chi</td>\n",
       "      <td id=\"T_3b85d_row4_col5\" class=\"data row4 col5\" >2</td>\n",
       "    </tr>\n",
       "  </tbody>\n",
       "</table>\n"
      ],
      "text/plain": [
       "<pandas.io.formats.style.Styler at 0x293557686d0>"
      ]
     },
     "execution_count": 19,
     "metadata": {},
     "output_type": "execute_result"
    }
   ],
   "source": [
    "df1.head().style.set_properties(**{'background-color' : 'purple',\n",
    "                                  'color': 'white',\n",
    "                                  'border-color': 'white'},\n",
    "                                   )"
   ]
  },
  {
   "cell_type": "markdown",
   "id": "70bae7dc",
   "metadata": {},
   "source": [
    "***UNIVARIATE ANALYSIS FOR SF***"
   ]
  },
  {
   "cell_type": "code",
   "execution_count": 20,
   "id": "4596f877",
   "metadata": {
    "scrolled": true
   },
   "outputs": [
    {
     "data": {
      "text/html": [
       "<div>\n",
       "<style scoped>\n",
       "    .dataframe tbody tr th:only-of-type {\n",
       "        vertical-align: middle;\n",
       "    }\n",
       "\n",
       "    .dataframe tbody tr th {\n",
       "        vertical-align: top;\n",
       "    }\n",
       "\n",
       "    .dataframe thead th {\n",
       "        text-align: right;\n",
       "    }\n",
       "</style>\n",
       "<table border=\"1\" class=\"dataframe\">\n",
       "  <thead>\n",
       "    <tr style=\"text-align: right;\">\n",
       "      <th></th>\n",
       "      <th>order_delivery_time</th>\n",
       "      <th>order_id</th>\n",
       "      <th>customer_order_rating</th>\n",
       "      <th>type_of_issue _reported</th>\n",
       "      <th>region</th>\n",
       "      <th>hour</th>\n",
       "    </tr>\n",
       "  </thead>\n",
       "  <tbody>\n",
       "    <tr>\n",
       "      <th>7720</th>\n",
       "      <td>2014-06-02 06:16:19+00:00</td>\n",
       "      <td>233599504</td>\n",
       "      <td>5</td>\n",
       "      <td>NaN</td>\n",
       "      <td>sf</td>\n",
       "      <td>6</td>\n",
       "    </tr>\n",
       "    <tr>\n",
       "      <th>7721</th>\n",
       "      <td>2014-06-02 05:58:10+00:00</td>\n",
       "      <td>233599318</td>\n",
       "      <td>5</td>\n",
       "      <td>NaN</td>\n",
       "      <td>sf</td>\n",
       "      <td>5</td>\n",
       "    </tr>\n",
       "    <tr>\n",
       "      <th>7722</th>\n",
       "      <td>2014-06-02 05:47:00+00:00</td>\n",
       "      <td>233599434</td>\n",
       "      <td>5</td>\n",
       "      <td>NaN</td>\n",
       "      <td>sf</td>\n",
       "      <td>5</td>\n",
       "    </tr>\n",
       "    <tr>\n",
       "      <th>7723</th>\n",
       "      <td>2014-06-02 05:42:17+00:00</td>\n",
       "      <td>233599167</td>\n",
       "      <td>5</td>\n",
       "      <td>NaN</td>\n",
       "      <td>sf</td>\n",
       "      <td>5</td>\n",
       "    </tr>\n",
       "    <tr>\n",
       "      <th>7724</th>\n",
       "      <td>2014-06-02 05:40:08+00:00</td>\n",
       "      <td>233599356</td>\n",
       "      <td>5</td>\n",
       "      <td>NaN</td>\n",
       "      <td>sf</td>\n",
       "      <td>5</td>\n",
       "    </tr>\n",
       "    <tr>\n",
       "      <th>...</th>\n",
       "      <td>...</td>\n",
       "      <td>...</td>\n",
       "      <td>...</td>\n",
       "      <td>...</td>\n",
       "      <td>...</td>\n",
       "      <td>...</td>\n",
       "    </tr>\n",
       "    <tr>\n",
       "      <th>14952</th>\n",
       "      <td>2014-05-07 20:29:32+00:00</td>\n",
       "      <td>233614661</td>\n",
       "      <td>0</td>\n",
       "      <td>NaN</td>\n",
       "      <td>sf</td>\n",
       "      <td>20</td>\n",
       "    </tr>\n",
       "    <tr>\n",
       "      <th>14953</th>\n",
       "      <td>2014-05-05 23:59:17+00:00</td>\n",
       "      <td>233614666</td>\n",
       "      <td>0</td>\n",
       "      <td>NaN</td>\n",
       "      <td>sf</td>\n",
       "      <td>23</td>\n",
       "    </tr>\n",
       "    <tr>\n",
       "      <th>14954</th>\n",
       "      <td>2014-05-04 22:48:29+00:00</td>\n",
       "      <td>233614671</td>\n",
       "      <td>0</td>\n",
       "      <td>NaN</td>\n",
       "      <td>sf</td>\n",
       "      <td>22</td>\n",
       "    </tr>\n",
       "    <tr>\n",
       "      <th>14955</th>\n",
       "      <td>2014-05-03 17:41:36+00:00</td>\n",
       "      <td>233614676</td>\n",
       "      <td>0</td>\n",
       "      <td>NaN</td>\n",
       "      <td>sf</td>\n",
       "      <td>17</td>\n",
       "    </tr>\n",
       "    <tr>\n",
       "      <th>14956</th>\n",
       "      <td>2014-05-01 23:25:46+00:00</td>\n",
       "      <td>233614681</td>\n",
       "      <td>0</td>\n",
       "      <td>NaN</td>\n",
       "      <td>sf</td>\n",
       "      <td>23</td>\n",
       "    </tr>\n",
       "  </tbody>\n",
       "</table>\n",
       "<p>7237 rows × 6 columns</p>\n",
       "</div>"
      ],
      "text/plain": [
       "            order_delivery_time   order_id  customer_order_rating  \\\n",
       "7720  2014-06-02 06:16:19+00:00  233599504                      5   \n",
       "7721  2014-06-02 05:58:10+00:00  233599318                      5   \n",
       "7722  2014-06-02 05:47:00+00:00  233599434                      5   \n",
       "7723  2014-06-02 05:42:17+00:00  233599167                      5   \n",
       "7724  2014-06-02 05:40:08+00:00  233599356                      5   \n",
       "...                         ...        ...                    ...   \n",
       "14952 2014-05-07 20:29:32+00:00  233614661                      0   \n",
       "14953 2014-05-05 23:59:17+00:00  233614666                      0   \n",
       "14954 2014-05-04 22:48:29+00:00  233614671                      0   \n",
       "14955 2014-05-03 17:41:36+00:00  233614676                      0   \n",
       "14956 2014-05-01 23:25:46+00:00  233614681                      0   \n",
       "\n",
       "      type_of_issue _reported region  hour  \n",
       "7720                      NaN     sf     6  \n",
       "7721                      NaN     sf     5  \n",
       "7722                      NaN     sf     5  \n",
       "7723                      NaN     sf     5  \n",
       "7724                      NaN     sf     5  \n",
       "...                       ...    ...   ...  \n",
       "14952                     NaN     sf    20  \n",
       "14953                     NaN     sf    23  \n",
       "14954                     NaN     sf    22  \n",
       "14955                     NaN     sf    17  \n",
       "14956                     NaN     sf    23  \n",
       "\n",
       "[7237 rows x 6 columns]"
      ]
     },
     "execution_count": 20,
     "metadata": {},
     "output_type": "execute_result"
    }
   ],
   "source": [
    "sf = df1[df1['region'] == \"sf\"]\n",
    "sf"
   ]
  },
  {
   "cell_type": "code",
   "execution_count": 21,
   "id": "1ebe3283",
   "metadata": {},
   "outputs": [
    {
     "data": {
      "image/png": "[encoded data removed]",
      "text/plain": [
       "<Figure size 864x432 with 1 Axes>"
      ]
     },
     "metadata": {
      "needs_background": "light"
     },
     "output_type": "display_data"
    }
   ],
   "source": [
    "plt.figure(figsize = (12, 6))\n",
    "\n",
    "sf.groupby('hour')['order_id'].count().plot(kind = 'line', label = \"sf\", color = 'green')\n",
    "plt.title(\"Count of deliveries across region\")\n",
    "plt.xlabel('hour')\n",
    "plt.ylabel('Delivery Count')\n",
    "\n",
    "plt.legend()\n",
    "\n",
    "plt.show();"
   ]
  },
  {
   "cell_type": "code",
   "execution_count": 22,
   "id": "aee32a07",
   "metadata": {
    "scrolled": true
   },
   "outputs": [
    {
     "data": {
      "image/png": "[encoded data removed]",
      "text/plain": [
       "<Figure size 864x432 with 1 Axes>"
      ]
     },
     "metadata": {
      "needs_background": "light"
     },
     "output_type": "display_data"
    }
   ],
   "source": [
    "plt.figure(figsize = (12,6))\n",
    "sns.countplot(data=df1,x=sf['customer_order_rating'] ,palette=\"magma_r\")\n",
    "plt.show()"
   ]
  },
  {
   "cell_type": "markdown",
   "id": "d3154c75",
   "metadata": {},
   "source": [
    "***CHICAGO***"
   ]
  },
  {
   "cell_type": "code",
   "execution_count": 25,
   "id": "a9b84900",
   "metadata": {},
   "outputs": [],
   "source": [
    "chi = df1[df1['region'] == \"chi\"]\n",
    "#chi"
   ]
  },
  {
   "cell_type": "code",
   "execution_count": 26,
   "id": "d93d9d1c",
   "metadata": {
    "scrolled": false
   },
   "outputs": [
    {
     "data": {
      "image/png": "[encoded data removed]",
      "text/plain": [
       "<Figure size 864x432 with 1 Axes>"
      ]
     },
     "metadata": {
      "needs_background": "light"
     },
     "output_type": "display_data"
    }
   ],
   "source": [
    "plt.figure(figsize = (12, 6))\n",
    "\n",
    "chi.groupby('hour')['order_id'].count().plot(kind = 'line', label = \"chi\")\n",
    "plt.title(\"Count of deliveries across region\")\n",
    "plt.xlabel('hour')\n",
    "plt.ylabel('Delivery Count')\n",
    "plt.legend()\n",
    "plt.show();\n"
   ]
  },
  {
   "cell_type": "code",
   "execution_count": null,
   "id": "fa5eddbc",
   "metadata": {},
   "outputs": [],
   "source": [
    "plt.figure(figsize = (12,6))\n",
    "sns.countplot(data=df1,x=chi['customer_order_rating'] ,palette=\"magma_r\")\n",
    "plt.show()"
   ]
  },
  {
   "cell_type": "markdown",
   "id": "03035e01",
   "metadata": {},
   "source": [
    "***NEW YORK***"
   ]
  },
  {
   "cell_type": "code",
   "execution_count": 28,
   "id": "6d1f9c63",
   "metadata": {},
   "outputs": [],
   "source": [
    "nyc = df1[df1['region'] == \"nyc\"]\n",
    "#nyc"
   ]
  },
  {
   "cell_type": "code",
   "execution_count": 29,
   "id": "f31229e8",
   "metadata": {},
   "outputs": [
    {
     "data": {
      "image/png": "[encoded data removed]",
      "text/plain": [
       "<Figure size 864x432 with 1 Axes>"
      ]
     },
     "metadata": {
      "needs_background": "light"
     },
     "output_type": "display_data"
    }
   ],
   "source": [
    "plt.figure(figsize = (12, 6))\n",
    "\n",
    "nyc.groupby('hour')['order_id'].count().plot(kind = 'line', label = \"nyc\", color = 'yellow')\n",
    "plt.title(\"Count of deliveries across region\")\n",
    "plt.xlabel('hour')\n",
    "plt.ylabel('Delivery Count')\n",
    "plt.legend()\n",
    "plt.show();\n"
   ]
  },
  {
   "cell_type": "code",
   "execution_count": null,
   "id": "7377d347",
   "metadata": {},
   "outputs": [],
   "source": [
    "plt.figure(figsize = (12,6))\n",
    "sns.countplot(data=df1,x=nyc['customer_order_rating'] ,palette=\"magma_r\")\n",
    "plt.show()"
   ]
  },
  {
   "cell_type": "markdown",
   "id": "a8d330c2",
   "metadata": {},
   "source": [
    "***ALL REGIONS***"
   ]
  },
  {
   "cell_type": "code",
   "execution_count": null,
   "id": "73ffeabb",
   "metadata": {},
   "outputs": [],
   "source": [
    "all_region = df1['region'].unique().tolist()\n",
    "all_region"
   ]
  },
  {
   "cell_type": "code",
   "execution_count": null,
   "id": "a0e59fac",
   "metadata": {},
   "outputs": [],
   "source": [
    "plt.figure(figsize = (12, 6))\n",
    "\n",
    "for region in all_region:\n",
    "    (df1[df1['region'] == region]\n",
    "    .groupby('hour')['order_id']\n",
    "    .count()\n",
    "     .plot(kind ='line', title = 'All regions in one chart')\n",
    "          )"
   ]
  },
  {
   "cell_type": "code",
   "execution_count": null,
   "id": "1d1ecea2",
   "metadata": {},
   "outputs": [],
   "source": [
    "# plt.figure(figsize= (12,6))\n",
    "# for region in all_region:\n",
    "#     (df1[df1['region'] == region]\n",
    "#      .groupby('hour')['order_id']\n",
    "#      .count()\n",
    "#      .plot(kind = 'line', title = region)\n",
    "#     );\n",
    "#     plt.figure();"
   ]
  },
  {
   "cell_type": "markdown",
   "id": "492a803a",
   "metadata": {},
   "source": [
    "***We notice that there is an odd trend in the order delivery times; this is because the UTC does not apply to all regions. We need to change the timezones to get more accurate readings***"
   ]
  },
  {
   "cell_type": "code",
   "execution_count": 30,
   "id": "64ae117a",
   "metadata": {},
   "outputs": [],
   "source": [
    "sf['local_time'] = sf['order_delivery_time'].dt.tz_convert('US/Pacific')\n",
    "sf['local_hour'] = sf['local_time'].dt.hour\n"
   ]
  },
  {
   "cell_type": "code",
   "execution_count": 31,
   "id": "bb655942",
   "metadata": {},
   "outputs": [
    {
     "data": {
      "text/html": [
       "<div>\n",
       "<style scoped>\n",
       "    .dataframe tbody tr th:only-of-type {\n",
       "        vertical-align: middle;\n",
       "    }\n",
       "\n",
       "    .dataframe tbody tr th {\n",
       "        vertical-align: top;\n",
       "    }\n",
       "\n",
       "    .dataframe thead th {\n",
       "        text-align: right;\n",
       "    }\n",
       "</style>\n",
       "<table border=\"1\" class=\"dataframe\">\n",
       "  <thead>\n",
       "    <tr style=\"text-align: right;\">\n",
       "      <th></th>\n",
       "      <th>order_delivery_time</th>\n",
       "      <th>order_id</th>\n",
       "      <th>customer_order_rating</th>\n",
       "      <th>type_of_issue _reported</th>\n",
       "      <th>region</th>\n",
       "      <th>hour</th>\n",
       "      <th>local_time</th>\n",
       "      <th>local_hour</th>\n",
       "    </tr>\n",
       "  </thead>\n",
       "  <tbody>\n",
       "    <tr>\n",
       "      <th>7720</th>\n",
       "      <td>2014-06-02 06:16:19+00:00</td>\n",
       "      <td>233599504</td>\n",
       "      <td>5</td>\n",
       "      <td>NaN</td>\n",
       "      <td>sf</td>\n",
       "      <td>6</td>\n",
       "      <td>2014-06-01 23:16:19-07:00</td>\n",
       "      <td>23</td>\n",
       "    </tr>\n",
       "    <tr>\n",
       "      <th>7721</th>\n",
       "      <td>2014-06-02 05:58:10+00:00</td>\n",
       "      <td>233599318</td>\n",
       "      <td>5</td>\n",
       "      <td>NaN</td>\n",
       "      <td>sf</td>\n",
       "      <td>5</td>\n",
       "      <td>2014-06-01 22:58:10-07:00</td>\n",
       "      <td>22</td>\n",
       "    </tr>\n",
       "    <tr>\n",
       "      <th>7722</th>\n",
       "      <td>2014-06-02 05:47:00+00:00</td>\n",
       "      <td>233599434</td>\n",
       "      <td>5</td>\n",
       "      <td>NaN</td>\n",
       "      <td>sf</td>\n",
       "      <td>5</td>\n",
       "      <td>2014-06-01 22:47:00-07:00</td>\n",
       "      <td>22</td>\n",
       "    </tr>\n",
       "    <tr>\n",
       "      <th>7723</th>\n",
       "      <td>2014-06-02 05:42:17+00:00</td>\n",
       "      <td>233599167</td>\n",
       "      <td>5</td>\n",
       "      <td>NaN</td>\n",
       "      <td>sf</td>\n",
       "      <td>5</td>\n",
       "      <td>2014-06-01 22:42:17-07:00</td>\n",
       "      <td>22</td>\n",
       "    </tr>\n",
       "    <tr>\n",
       "      <th>7724</th>\n",
       "      <td>2014-06-02 05:40:08+00:00</td>\n",
       "      <td>233599356</td>\n",
       "      <td>5</td>\n",
       "      <td>NaN</td>\n",
       "      <td>sf</td>\n",
       "      <td>5</td>\n",
       "      <td>2014-06-01 22:40:08-07:00</td>\n",
       "      <td>22</td>\n",
       "    </tr>\n",
       "  </tbody>\n",
       "</table>\n",
       "</div>"
      ],
      "text/plain": [
       "           order_delivery_time   order_id  customer_order_rating  \\\n",
       "7720 2014-06-02 06:16:19+00:00  233599504                      5   \n",
       "7721 2014-06-02 05:58:10+00:00  233599318                      5   \n",
       "7722 2014-06-02 05:47:00+00:00  233599434                      5   \n",
       "7723 2014-06-02 05:42:17+00:00  233599167                      5   \n",
       "7724 2014-06-02 05:40:08+00:00  233599356                      5   \n",
       "\n",
       "     type_of_issue _reported region  hour                local_time  \\\n",
       "7720                     NaN     sf     6 2014-06-01 23:16:19-07:00   \n",
       "7721                     NaN     sf     5 2014-06-01 22:58:10-07:00   \n",
       "7722                     NaN     sf     5 2014-06-01 22:47:00-07:00   \n",
       "7723                     NaN     sf     5 2014-06-01 22:42:17-07:00   \n",
       "7724                     NaN     sf     5 2014-06-01 22:40:08-07:00   \n",
       "\n",
       "      local_hour  \n",
       "7720          23  \n",
       "7721          22  \n",
       "7722          22  \n",
       "7723          22  \n",
       "7724          22  "
      ]
     },
     "execution_count": 31,
     "metadata": {},
     "output_type": "execute_result"
    }
   ],
   "source": [
    "sf.head()"
   ]
  },
  {
   "cell_type": "code",
   "execution_count": 57,
   "id": "60e50e63",
   "metadata": {},
   "outputs": [
    {
     "data": {
      "image/png": "[encoded data removed]",
      "text/plain": [
       "<Figure size 720x360 with 1 Axes>"
      ]
     },
     "metadata": {
      "needs_background": "light"
     },
     "output_type": "display_data"
    }
   ],
   "source": [
    "plt.figure(figsize = (10,5))\n",
    "sf.groupby('local_hour')['order_id'].count().plot(kind = 'line')\n",
    "plt.title('Delivery count in SF; Local time', fontsize = 20)\n",
    "plt.ylabel('Delivery count')\n",
    "plt.show();"
   ]
  },
  {
   "cell_type": "markdown",
   "id": "038294aa",
   "metadata": {},
   "source": [
    "**CHICAGO**"
   ]
  },
  {
   "cell_type": "code",
   "execution_count": 41,
   "id": "99bedce5",
   "metadata": {},
   "outputs": [
    {
     "data": {
      "text/html": [
       "<style type=\"text/css\">\n",
       "#T_c146c_row0_col0, #T_c146c_row0_col1, #T_c146c_row0_col2, #T_c146c_row0_col3, #T_c146c_row0_col4, #T_c146c_row0_col5, #T_c146c_row0_col6, #T_c146c_row0_col7, #T_c146c_row1_col0, #T_c146c_row1_col1, #T_c146c_row1_col2, #T_c146c_row1_col3, #T_c146c_row1_col4, #T_c146c_row1_col5, #T_c146c_row1_col6, #T_c146c_row1_col7, #T_c146c_row2_col0, #T_c146c_row2_col1, #T_c146c_row2_col2, #T_c146c_row2_col3, #T_c146c_row2_col4, #T_c146c_row2_col5, #T_c146c_row2_col6, #T_c146c_row2_col7, #T_c146c_row3_col0, #T_c146c_row3_col1, #T_c146c_row3_col2, #T_c146c_row3_col3, #T_c146c_row3_col4, #T_c146c_row3_col5, #T_c146c_row3_col6, #T_c146c_row3_col7, #T_c146c_row4_col0, #T_c146c_row4_col1, #T_c146c_row4_col2, #T_c146c_row4_col3, #T_c146c_row4_col4, #T_c146c_row4_col5, #T_c146c_row4_col6, #T_c146c_row4_col7 {\n",
       "  background-color: blue;\n",
       "  color: white;\n",
       "  border-color: white;\n",
       "}\n",
       "</style>\n",
       "<table id=\"T_c146c\">\n",
       "  <thead>\n",
       "    <tr>\n",
       "      <th class=\"blank level0\" >&nbsp;</th>\n",
       "      <th id=\"T_c146c_level0_col0\" class=\"col_heading level0 col0\" >order_delivery_time</th>\n",
       "      <th id=\"T_c146c_level0_col1\" class=\"col_heading level0 col1\" >order_id</th>\n",
       "      <th id=\"T_c146c_level0_col2\" class=\"col_heading level0 col2\" >customer_order_rating</th>\n",
       "      <th id=\"T_c146c_level0_col3\" class=\"col_heading level0 col3\" >type_of_issue _reported</th>\n",
       "      <th id=\"T_c146c_level0_col4\" class=\"col_heading level0 col4\" >region</th>\n",
       "      <th id=\"T_c146c_level0_col5\" class=\"col_heading level0 col5\" >hour</th>\n",
       "      <th id=\"T_c146c_level0_col6\" class=\"col_heading level0 col6\" >local_time</th>\n",
       "      <th id=\"T_c146c_level0_col7\" class=\"col_heading level0 col7\" >local_hour</th>\n",
       "    </tr>\n",
       "  </thead>\n",
       "  <tbody>\n",
       "    <tr>\n",
       "      <th id=\"T_c146c_level0_row0\" class=\"row_heading level0 row0\" >0</th>\n",
       "      <td id=\"T_c146c_row0_col0\" class=\"data row0 col0\" >2014-06-02 04:23:16+00:00</td>\n",
       "      <td id=\"T_c146c_row0_col1\" class=\"data row0 col1\" >233599337</td>\n",
       "      <td id=\"T_c146c_row0_col2\" class=\"data row0 col2\" >5</td>\n",
       "      <td id=\"T_c146c_row0_col3\" class=\"data row0 col3\" >nan</td>\n",
       "      <td id=\"T_c146c_row0_col4\" class=\"data row0 col4\" >chi</td>\n",
       "      <td id=\"T_c146c_row0_col5\" class=\"data row0 col5\" >4</td>\n",
       "      <td id=\"T_c146c_row0_col6\" class=\"data row0 col6\" >2014-06-01 23:23:16-05:00</td>\n",
       "      <td id=\"T_c146c_row0_col7\" class=\"data row0 col7\" >23</td>\n",
       "    </tr>\n",
       "    <tr>\n",
       "      <th id=\"T_c146c_level0_row1\" class=\"row_heading level0 row1\" >1</th>\n",
       "      <td id=\"T_c146c_row1_col0\" class=\"data row1 col0\" >2014-06-02 03:57:50+00:00</td>\n",
       "      <td id=\"T_c146c_row1_col1\" class=\"data row1 col1\" >233599376</td>\n",
       "      <td id=\"T_c146c_row1_col2\" class=\"data row1 col2\" >5</td>\n",
       "      <td id=\"T_c146c_row1_col3\" class=\"data row1 col3\" >nan</td>\n",
       "      <td id=\"T_c146c_row1_col4\" class=\"data row1 col4\" >chi</td>\n",
       "      <td id=\"T_c146c_row1_col5\" class=\"data row1 col5\" >3</td>\n",
       "      <td id=\"T_c146c_row1_col6\" class=\"data row1 col6\" >2014-06-01 22:57:50-05:00</td>\n",
       "      <td id=\"T_c146c_row1_col7\" class=\"data row1 col7\" >22</td>\n",
       "    </tr>\n",
       "    <tr>\n",
       "      <th id=\"T_c146c_level0_row2\" class=\"row_heading level0 row2\" >2</th>\n",
       "      <td id=\"T_c146c_row2_col0\" class=\"data row2 col0\" >2014-06-02 02:52:38+00:00</td>\n",
       "      <td id=\"T_c146c_row2_col1\" class=\"data row2 col1\" >233599328</td>\n",
       "      <td id=\"T_c146c_row2_col2\" class=\"data row2 col2\" >5</td>\n",
       "      <td id=\"T_c146c_row2_col3\" class=\"data row2 col3\" >nan</td>\n",
       "      <td id=\"T_c146c_row2_col4\" class=\"data row2 col4\" >chi</td>\n",
       "      <td id=\"T_c146c_row2_col5\" class=\"data row2 col5\" >2</td>\n",
       "      <td id=\"T_c146c_row2_col6\" class=\"data row2 col6\" >2014-06-01 21:52:38-05:00</td>\n",
       "      <td id=\"T_c146c_row2_col7\" class=\"data row2 col7\" >21</td>\n",
       "    </tr>\n",
       "    <tr>\n",
       "      <th id=\"T_c146c_level0_row3\" class=\"row_heading level0 row3\" >3</th>\n",
       "      <td id=\"T_c146c_row3_col0\" class=\"data row3 col0\" >2014-06-02 02:52:04+00:00</td>\n",
       "      <td id=\"T_c146c_row3_col1\" class=\"data row3 col1\" >233599070</td>\n",
       "      <td id=\"T_c146c_row3_col2\" class=\"data row3 col2\" >5</td>\n",
       "      <td id=\"T_c146c_row3_col3\" class=\"data row3 col3\" >nan</td>\n",
       "      <td id=\"T_c146c_row3_col4\" class=\"data row3 col4\" >chi</td>\n",
       "      <td id=\"T_c146c_row3_col5\" class=\"data row3 col5\" >2</td>\n",
       "      <td id=\"T_c146c_row3_col6\" class=\"data row3 col6\" >2014-06-01 21:52:04-05:00</td>\n",
       "      <td id=\"T_c146c_row3_col7\" class=\"data row3 col7\" >21</td>\n",
       "    </tr>\n",
       "    <tr>\n",
       "      <th id=\"T_c146c_level0_row4\" class=\"row_heading level0 row4\" >4</th>\n",
       "      <td id=\"T_c146c_row4_col0\" class=\"data row4 col0\" >2014-06-02 02:41:43+00:00</td>\n",
       "      <td id=\"T_c146c_row4_col1\" class=\"data row4 col1\" >233599100</td>\n",
       "      <td id=\"T_c146c_row4_col2\" class=\"data row4 col2\" >5</td>\n",
       "      <td id=\"T_c146c_row4_col3\" class=\"data row4 col3\" >nan</td>\n",
       "      <td id=\"T_c146c_row4_col4\" class=\"data row4 col4\" >chi</td>\n",
       "      <td id=\"T_c146c_row4_col5\" class=\"data row4 col5\" >2</td>\n",
       "      <td id=\"T_c146c_row4_col6\" class=\"data row4 col6\" >2014-06-01 21:41:43-05:00</td>\n",
       "      <td id=\"T_c146c_row4_col7\" class=\"data row4 col7\" >21</td>\n",
       "    </tr>\n",
       "  </tbody>\n",
       "</table>\n"
      ],
      "text/plain": [
       "<pandas.io.formats.style.Styler at 0x29356658880>"
      ]
     },
     "execution_count": 41,
     "metadata": {},
     "output_type": "execute_result"
    }
   ],
   "source": [
    "chi['local_time'] = chi['order_delivery_time'].dt.tz_convert('US/Central')\n",
    "chi['local_hour'] = chi['local_time'].dt.hour\n",
    "chi.head().style.set_properties(**{'background-color' : 'blue',\n",
    "                                  'color' : 'white',\n",
    "                                  'border-color' : 'white'},\n",
    "                               )\n"
   ]
  },
  {
   "cell_type": "code",
   "execution_count": 54,
   "id": "4b450e11",
   "metadata": {},
   "outputs": [
    {
     "data": {
      "image/png": "[encoded data removed]",
      "text/plain": [
       "<Figure size 720x360 with 1 Axes>"
      ]
     },
     "metadata": {
      "needs_background": "light"
     },
     "output_type": "display_data"
    }
   ],
   "source": [
    "plt.figure(figsize = (10, 5))\n",
    "chi.groupby('local_hour')['order_id'].count().plot(kind = 'line')\n",
    "plt.title('Delivery count in Chicago; Local time', fontsize = 20)\n",
    "plt.show()"
   ]
  },
  {
   "cell_type": "markdown",
   "id": "341b3957",
   "metadata": {},
   "source": [
    "**NYC**"
   ]
  },
  {
   "cell_type": "code",
   "execution_count": 47,
   "id": "6218b2bf",
   "metadata": {},
   "outputs": [
    {
     "data": {
      "text/html": [
       "<style type=\"text/css\">\n",
       "#T_63e78_row0_col0, #T_63e78_row0_col1, #T_63e78_row0_col2, #T_63e78_row0_col3, #T_63e78_row0_col4, #T_63e78_row0_col5, #T_63e78_row0_col6, #T_63e78_row0_col7, #T_63e78_row1_col0, #T_63e78_row1_col1, #T_63e78_row1_col2, #T_63e78_row1_col3, #T_63e78_row1_col4, #T_63e78_row1_col5, #T_63e78_row1_col6, #T_63e78_row1_col7, #T_63e78_row2_col0, #T_63e78_row2_col1, #T_63e78_row2_col2, #T_63e78_row2_col3, #T_63e78_row2_col4, #T_63e78_row2_col5, #T_63e78_row2_col6, #T_63e78_row2_col7, #T_63e78_row3_col0, #T_63e78_row3_col1, #T_63e78_row3_col2, #T_63e78_row3_col3, #T_63e78_row3_col4, #T_63e78_row3_col5, #T_63e78_row3_col6, #T_63e78_row3_col7, #T_63e78_row4_col0, #T_63e78_row4_col1, #T_63e78_row4_col2, #T_63e78_row4_col3, #T_63e78_row4_col4, #T_63e78_row4_col5, #T_63e78_row4_col6, #T_63e78_row4_col7 {\n",
       "  background-color: orange;\n",
       "  color: white;\n",
       "  border-color: white;\n",
       "}\n",
       "</style>\n",
       "<table id=\"T_63e78\">\n",
       "  <thead>\n",
       "    <tr>\n",
       "      <th class=\"blank level0\" >&nbsp;</th>\n",
       "      <th id=\"T_63e78_level0_col0\" class=\"col_heading level0 col0\" >order_delivery_time</th>\n",
       "      <th id=\"T_63e78_level0_col1\" class=\"col_heading level0 col1\" >order_id</th>\n",
       "      <th id=\"T_63e78_level0_col2\" class=\"col_heading level0 col2\" >customer_order_rating</th>\n",
       "      <th id=\"T_63e78_level0_col3\" class=\"col_heading level0 col3\" >type_of_issue _reported</th>\n",
       "      <th id=\"T_63e78_level0_col4\" class=\"col_heading level0 col4\" >region</th>\n",
       "      <th id=\"T_63e78_level0_col5\" class=\"col_heading level0 col5\" >hour</th>\n",
       "      <th id=\"T_63e78_level0_col6\" class=\"col_heading level0 col6\" >local_time</th>\n",
       "      <th id=\"T_63e78_level0_col7\" class=\"col_heading level0 col7\" >local_hour</th>\n",
       "    </tr>\n",
       "  </thead>\n",
       "  <tbody>\n",
       "    <tr>\n",
       "      <th id=\"T_63e78_level0_row0\" class=\"row_heading level0 row0\" >6430</th>\n",
       "      <td id=\"T_63e78_row0_col0\" class=\"data row0 col0\" >2014-06-02 02:33:02+00:00</td>\n",
       "      <td id=\"T_63e78_row0_col1\" class=\"data row0 col1\" >233599247</td>\n",
       "      <td id=\"T_63e78_row0_col2\" class=\"data row0 col2\" >5</td>\n",
       "      <td id=\"T_63e78_row0_col3\" class=\"data row0 col3\" >nan</td>\n",
       "      <td id=\"T_63e78_row0_col4\" class=\"data row0 col4\" >nyc</td>\n",
       "      <td id=\"T_63e78_row0_col5\" class=\"data row0 col5\" >2</td>\n",
       "      <td id=\"T_63e78_row0_col6\" class=\"data row0 col6\" >2014-06-01 22:33:02-04:00</td>\n",
       "      <td id=\"T_63e78_row0_col7\" class=\"data row0 col7\" >22</td>\n",
       "    </tr>\n",
       "    <tr>\n",
       "      <th id=\"T_63e78_level0_row1\" class=\"row_heading level0 row1\" >6431</th>\n",
       "      <td id=\"T_63e78_row1_col0\" class=\"data row1 col0\" >2014-06-02 01:31:11+00:00</td>\n",
       "      <td id=\"T_63e78_row1_col1\" class=\"data row1 col1\" >233598545</td>\n",
       "      <td id=\"T_63e78_row1_col2\" class=\"data row1 col2\" >5</td>\n",
       "      <td id=\"T_63e78_row1_col3\" class=\"data row1 col3\" >nan</td>\n",
       "      <td id=\"T_63e78_row1_col4\" class=\"data row1 col4\" >nyc</td>\n",
       "      <td id=\"T_63e78_row1_col5\" class=\"data row1 col5\" >1</td>\n",
       "      <td id=\"T_63e78_row1_col6\" class=\"data row1 col6\" >2014-06-01 21:31:11-04:00</td>\n",
       "      <td id=\"T_63e78_row1_col7\" class=\"data row1 col7\" >21</td>\n",
       "    </tr>\n",
       "    <tr>\n",
       "      <th id=\"T_63e78_level0_row2\" class=\"row_heading level0 row2\" >6432</th>\n",
       "      <td id=\"T_63e78_row2_col0\" class=\"data row2 col0\" >2014-06-02 01:20:37+00:00</td>\n",
       "      <td id=\"T_63e78_row2_col1\" class=\"data row2 col1\" >233598831</td>\n",
       "      <td id=\"T_63e78_row2_col2\" class=\"data row2 col2\" >5</td>\n",
       "      <td id=\"T_63e78_row2_col3\" class=\"data row2 col3\" >nan</td>\n",
       "      <td id=\"T_63e78_row2_col4\" class=\"data row2 col4\" >nyc</td>\n",
       "      <td id=\"T_63e78_row2_col5\" class=\"data row2 col5\" >1</td>\n",
       "      <td id=\"T_63e78_row2_col6\" class=\"data row2 col6\" >2014-06-01 21:20:37-04:00</td>\n",
       "      <td id=\"T_63e78_row2_col7\" class=\"data row2 col7\" >21</td>\n",
       "    </tr>\n",
       "    <tr>\n",
       "      <th id=\"T_63e78_level0_row3\" class=\"row_heading level0 row3\" >6433</th>\n",
       "      <td id=\"T_63e78_row3_col0\" class=\"data row3 col0\" >2014-06-01 23:31:22+00:00</td>\n",
       "      <td id=\"T_63e78_row3_col1\" class=\"data row3 col1\" >233598712</td>\n",
       "      <td id=\"T_63e78_row3_col2\" class=\"data row3 col2\" >5</td>\n",
       "      <td id=\"T_63e78_row3_col3\" class=\"data row3 col3\" >nan</td>\n",
       "      <td id=\"T_63e78_row3_col4\" class=\"data row3 col4\" >nyc</td>\n",
       "      <td id=\"T_63e78_row3_col5\" class=\"data row3 col5\" >23</td>\n",
       "      <td id=\"T_63e78_row3_col6\" class=\"data row3 col6\" >2014-06-01 19:31:22-04:00</td>\n",
       "      <td id=\"T_63e78_row3_col7\" class=\"data row3 col7\" >19</td>\n",
       "    </tr>\n",
       "    <tr>\n",
       "      <th id=\"T_63e78_level0_row4\" class=\"row_heading level0 row4\" >6434</th>\n",
       "      <td id=\"T_63e78_row4_col0\" class=\"data row4 col0\" >2014-06-01 23:25:49+00:00</td>\n",
       "      <td id=\"T_63e78_row4_col1\" class=\"data row4 col1\" >233598480</td>\n",
       "      <td id=\"T_63e78_row4_col2\" class=\"data row4 col2\" >5</td>\n",
       "      <td id=\"T_63e78_row4_col3\" class=\"data row4 col3\" >nan</td>\n",
       "      <td id=\"T_63e78_row4_col4\" class=\"data row4 col4\" >nyc</td>\n",
       "      <td id=\"T_63e78_row4_col5\" class=\"data row4 col5\" >23</td>\n",
       "      <td id=\"T_63e78_row4_col6\" class=\"data row4 col6\" >2014-06-01 19:25:49-04:00</td>\n",
       "      <td id=\"T_63e78_row4_col7\" class=\"data row4 col7\" >19</td>\n",
       "    </tr>\n",
       "  </tbody>\n",
       "</table>\n"
      ],
      "text/plain": [
       "<pandas.io.formats.style.Styler at 0x293557dc400>"
      ]
     },
     "execution_count": 47,
     "metadata": {},
     "output_type": "execute_result"
    }
   ],
   "source": [
    "nyc['local_time'] = nyc['order_delivery_time'].dt.tz_convert('US/Eastern')\n",
    "nyc['local_hour'] = nyc['local_time'].dt.hour\n",
    "nyc.head().style.set_properties(**{'background-color' : 'orange',\n",
    "                                  'color' : 'white',\n",
    "                                  'border-color' : 'white'},\n",
    "                               )\n"
   ]
  },
  {
   "cell_type": "code",
   "execution_count": 56,
   "id": "ed368d38",
   "metadata": {
    "scrolled": false
   },
   "outputs": [
    {
     "data": {
      "image/png": "[encoded data removed]",
      "text/plain": [
       "<Figure size 720x360 with 1 Axes>"
      ]
     },
     "metadata": {
      "needs_background": "light"
     },
     "output_type": "display_data"
    }
   ],
   "source": [
    "plt.figure(figsize = (10, 5))\n",
    "nyc.groupby('local_hour')['order_id'].count().plot(kind = 'line')\n",
    "plt.title('Delivery count in NYC; local time', fontsize = 20)\n",
    "plt.ylabel('Delivery count')\n",
    "plt.xticks([2,4,6,8,10,12,14,16,18,20,22,24])\n",
    "plt.show();"
   ]
  },
  {
   "cell_type": "code",
   "execution_count": null,
   "id": "8e56f375",
   "metadata": {},
   "outputs": [],
   "source": []
  }
 ],
 "metadata": {
  "kernelspec": {
   "display_name": "Python 3 (ipykernel)",
   "language": "python",
   "name": "python3"
  },
  "language_info": {
   "codemirror_mode": {
    "name": "ipython",
    "version": 3
   },
   "file_extension": ".py",
   "mimetype": "text/x-python",
   "name": "python",
   "nbconvert_exporter": "python",
   "pygments_lexer": "ipython3",
   "version": "3.9.12"
  }
 },
 "nbformat": 4,
 "nbformat_minor": 5
}
